{
  "nbformat": 4,
  "nbformat_minor": 0,
  "metadata": {
    "colab": {
      "name": "Revisión NLTK - Multiple Documento.ipynb",
      "provenance": [],
      "collapsed_sections": [],
      "authorship_tag": "ABX9TyNGwCd/OQR7QuHTOLDseI1p",
      "include_colab_link": true
    },
    "kernelspec": {
      "name": "python3",
      "display_name": "Python 3"
    },
    "language_info": {
      "name": "python"
    }
  },
  "cells": [
    {
      "cell_type": "markdown",
      "metadata": {
        "id": "view-in-github",
        "colab_type": "text"
      },
      "source": [
        "<a href=\"https://colab.research.google.com/github/msalazark/Ejercicio-2/blob/master/Revisi%C3%B3n_NLTK_Multiple_Documento.ipynb\" target=\"_parent\"><img src=\"https://colab.research.google.com/assets/colab-badge.svg\" alt=\"Open In Colab\"/></a>"
      ]
    },
    {
      "cell_type": "code",
      "metadata": {
        "id": "CfeczK01LoZm"
      },
      "source": [
        "import pandas as pd \n",
        "import nltk\n",
        "# https://www.analyticsvidhya.com/blog/2021/08/text-preprocessing-in-python-getting-started-with-nlp/?utm_source=feedburner&utm_medium=email&utm_campaign=Feed%3A+AnalyticsVidhya+%28Analytics+Vidhya%29"
      ],
      "execution_count": 82,
      "outputs": []
    },
    {
      "cell_type": "code",
      "metadata": {
        "id": "UYxpdq7HLqoP"
      },
      "source": [
        "terminos = pd.read_csv(\"terminosbuscados.csv\", sep= \",\")"
      ],
      "execution_count": 83,
      "outputs": []
    },
    {
      "cell_type": "code",
      "metadata": {
        "colab": {
          "base_uri": "https://localhost:8080/",
          "height": 203
        },
        "id": "SX-IryksNZAj",
        "outputId": "20320ed0-2d95-4983-f22d-b0169bbc2981"
      },
      "source": [
        "terminos.tail()"
      ],
      "execution_count": 99,
      "outputs": [
        {
          "output_type": "execute_result",
          "data": {
            "text/html": [
              "<div>\n",
              "<style scoped>\n",
              "    .dataframe tbody tr th:only-of-type {\n",
              "        vertical-align: middle;\n",
              "    }\n",
              "\n",
              "    .dataframe tbody tr th {\n",
              "        vertical-align: top;\n",
              "    }\n",
              "\n",
              "    .dataframe thead th {\n",
              "        text-align: right;\n",
              "    }\n",
              "</style>\n",
              "<table border=\"1\" class=\"dataframe\">\n",
              "  <thead>\n",
              "    <tr style=\"text-align: right;\">\n",
              "      <th></th>\n",
              "      <th>searchKeyword</th>\n",
              "      <th>searchUniques</th>\n",
              "      <th>searchResultViews</th>\n",
              "    </tr>\n",
              "  </thead>\n",
              "  <tbody>\n",
              "    <tr>\n",
              "      <th>31016</th>\n",
              "      <td>zuly</td>\n",
              "      <td>1</td>\n",
              "      <td>1</td>\n",
              "    </tr>\n",
              "    <tr>\n",
              "      <th>31017</th>\n",
              "      <td>ZUSAK, MARKUS</td>\n",
              "      <td>1</td>\n",
              "      <td>1</td>\n",
              "    </tr>\n",
              "    <tr>\n",
              "      <th>31018</th>\n",
              "      <td>zweig</td>\n",
              "      <td>1</td>\n",
              "      <td>1</td>\n",
              "    </tr>\n",
              "    <tr>\n",
              "      <th>31019</th>\n",
              "      <td>Zweig</td>\n",
              "      <td>1</td>\n",
              "      <td>1</td>\n",
              "    </tr>\n",
              "    <tr>\n",
              "      <th>31020</th>\n",
              "      <td>ZWEIG</td>\n",
              "      <td>1</td>\n",
              "      <td>1</td>\n",
              "    </tr>\n",
              "  </tbody>\n",
              "</table>\n",
              "</div>"
            ],
            "text/plain": [
              "       searchKeyword  searchUniques  searchResultViews\n",
              "31016           zuly              1                  1\n",
              "31017  ZUSAK, MARKUS              1                  1\n",
              "31018          zweig              1                  1\n",
              "31019          Zweig              1                  1\n",
              "31020          ZWEIG              1                  1"
            ]
          },
          "metadata": {
            "tags": []
          },
          "execution_count": 99
        }
      ]
    },
    {
      "cell_type": "code",
      "metadata": {
        "id": "GbzYVNHiL1hP"
      },
      "source": [
        "dfwork = pd.DataFrame(terminos['searchKeyword'],terminos['searchUniques'], terminos['searchKeyword'] * terminos['searchUniques'])   "
      ],
      "execution_count": 113,
      "outputs": []
    },
    {
      "cell_type": "code",
      "metadata": {
        "colab": {
          "base_uri": "https://localhost:8080/",
          "height": 820
        },
        "id": "Cjmp7LGPU_yc",
        "outputId": "f4bca8a9-b4b2-46ac-911a-c3dfa2c23f75"
      },
      "source": [
        "dfwork.head()\n",
        "\n",
        "\n",
        "# https://datacarpentry.org/python-ecology-lesson-es/02-starting-with-data/"
      ],
      "execution_count": 120,
      "outputs": [
        {
          "output_type": "execute_result",
          "data": {
            "text/html": [
              "<div>\n",
              "<style scoped>\n",
              "    .dataframe tbody tr th:only-of-type {\n",
              "        vertical-align: middle;\n",
              "    }\n",
              "\n",
              "    .dataframe tbody tr th {\n",
              "        vertical-align: top;\n",
              "    }\n",
              "\n",
              "    .dataframe thead th {\n",
              "        text-align: right;\n",
              "    }\n",
              "</style>\n",
              "<table border=\"1\" class=\"dataframe\">\n",
              "  <thead>\n",
              "    <tr style=\"text-align: right;\">\n",
              "      <th></th>\n",
              "      <th>-</th>\n",
              "      <th>!!!!!!!!</th>\n",
              "      <th>¡Ay, mi Tina! - ¡Arre, caballito!</th>\n",
              "      <th>¡Bravazo!</th>\n",
              "      <th>¡Brvaazo!</th>\n",
              "      <th>¡Brvazo!</th>\n",
              "      <th>¡Empieza el cole!</th>\n",
              "      <th>¡Gracias, Señor Viento!</th>\n",
              "      <th>¡Me enamore...otra vez!</th>\n",
              "      <th>¡Que viva la música!</th>\n",
              "      <th>¡TÓMATE UN RESPIRO!</th>\n",
              "      <th>¿cual es tu papel?</th>\n",
              "      <th>¿Dios existe? El libro que todo creyente deberá (y todo ateo temerá) leer</th>\n",
              "      <th>¿es real la realidad?</th>\n",
              "      <th>¿Jugamos?</th>\n",
              "      <th>¿Lobo, estás?</th>\n",
              "      <th>¿Puedo soñar contigo?</th>\n",
              "      <th>¿Qué Desastre</th>\n",
              "      <th>¿Qué piensan los que no piensan como yo?</th>\n",
              "      <th>¿Qué significa ser joven?</th>\n",
              "      <th>¿Quién mató a Alex?</th>\n",
              "      <th>¿Quién Mató a Alex?</th>\n",
              "      <th>¿QUIÉN MATÓ A ALEX?</th>\n",
              "      <th>¿Y si fuéramos nosotros?</th>\n",
              "      <th>¿y si quedamos como amigos?</th>\n",
              "      <th>¿Y si quedamos como amigos?¿Y si quedamos como amigos?</th>\n",
              "      <th>.roal dhal</th>\n",
              "      <th>'El Verdadero Golpe', Manuel Merino</th>\n",
              "      <th>‘Jaime Sabines’</th>\n",
              "      <th>\"\" termino condiciones promo\"\" termino condiciones promo\"\" termino condiciones promo\"\" termino condiciones promo\"\" termino condiciones promo\"\" termino condiciones promo\"\" termino condiciones promo\"\" termino condiciones promo\"\" termino condiciones promo\"\" termino condiciones promo\"\" termino condiciones promo</th>\n",
              "      <th>\"alan moore\"</th>\n",
              "      <th>\"andres ugaz\"</th>\n",
              "      <th>\"Aves sin nido\"\"Aves sin nido\"</th>\n",
              "      <th>\"CIFUENTES, ROSA MARÍA\"</th>\n",
              "      <th>\"Cómo desarrollar la Inteligencia Emocional\" de Paz TORRABADELLA</th>\n",
              "      <th>\"David Fischman\"</th>\n",
              "      <th>\"ERNST H. GOMBRICH\"</th>\n",
              "      <th>\"Estupidez Emocional - Lo que necesita saber para protegerse de ella y superarla.\"</th>\n",
              "      <th>\"FENOMENOLOGÍA DEL ESPÍRITU\"</th>\n",
              "      <th>\"Gaby Pérez Islas</th>\n",
              "      <th>...</th>\n",
              "      <th>Zero to oneZero to one</th>\n",
              "      <th>zeropoint</th>\n",
              "      <th>Zeropoint</th>\n",
              "      <th>Zeta</th>\n",
              "      <th>zhuangzi</th>\n",
              "      <th>Ziega</th>\n",
              "      <th>Zig</th>\n",
              "      <th>Zig ziglairZig ziglair</th>\n",
              "      <th>zimbardo</th>\n",
              "      <th>zizeck</th>\n",
              "      <th>zizekzizek</th>\n",
              "      <th>Zizek</th>\n",
              "      <th>ZIZEKZIZEK</th>\n",
              "      <th>zodiac</th>\n",
              "      <th>zodiacozodiacozodiaco</th>\n",
              "      <th>Zodiaco</th>\n",
              "      <th>Zodiacos</th>\n",
              "      <th>ZOLA, ÉMILEZOLA, ÉMILE</th>\n",
              "      <th>zombie</th>\n",
              "      <th>ZombieZombieZombieZombie</th>\n",
              "      <th>Zombies</th>\n",
              "      <th>zombies marvel</th>\n",
              "      <th>Zombies para niños</th>\n",
              "      <th>zona stephen king</th>\n",
              "      <th>zonas azules</th>\n",
              "      <th>zonas erroneas</th>\n",
              "      <th>zoología</th>\n",
              "      <th>Zoom Andrea ferrari</th>\n",
              "      <th>Zootecnia</th>\n",
              "      <th>Zorra</th>\n",
              "      <th>Zorras</th>\n",
              "      <th>zorro</th>\n",
              "      <th>Zorro</th>\n",
              "      <th>zorro isabel allende</th>\n",
              "      <th>Zuli - Por la Serpentina de la Inociencia</th>\n",
              "      <th>zuly</th>\n",
              "      <th>ZUSAK, MARKUS</th>\n",
              "      <th>zweig</th>\n",
              "      <th>Zweig</th>\n",
              "      <th>ZWEIG</th>\n",
              "    </tr>\n",
              "    <tr>\n",
              "      <th>searchUniques</th>\n",
              "      <th></th>\n",
              "      <th></th>\n",
              "      <th></th>\n",
              "      <th></th>\n",
              "      <th></th>\n",
              "      <th></th>\n",
              "      <th></th>\n",
              "      <th></th>\n",
              "      <th></th>\n",
              "      <th></th>\n",
              "      <th></th>\n",
              "      <th></th>\n",
              "      <th></th>\n",
              "      <th></th>\n",
              "      <th></th>\n",
              "      <th></th>\n",
              "      <th></th>\n",
              "      <th></th>\n",
              "      <th></th>\n",
              "      <th></th>\n",
              "      <th></th>\n",
              "      <th></th>\n",
              "      <th></th>\n",
              "      <th></th>\n",
              "      <th></th>\n",
              "      <th></th>\n",
              "      <th></th>\n",
              "      <th></th>\n",
              "      <th></th>\n",
              "      <th></th>\n",
              "      <th></th>\n",
              "      <th></th>\n",
              "      <th></th>\n",
              "      <th></th>\n",
              "      <th></th>\n",
              "      <th></th>\n",
              "      <th></th>\n",
              "      <th></th>\n",
              "      <th></th>\n",
              "      <th></th>\n",
              "      <th></th>\n",
              "      <th></th>\n",
              "      <th></th>\n",
              "      <th></th>\n",
              "      <th></th>\n",
              "      <th></th>\n",
              "      <th></th>\n",
              "      <th></th>\n",
              "      <th></th>\n",
              "      <th></th>\n",
              "      <th></th>\n",
              "      <th></th>\n",
              "      <th></th>\n",
              "      <th></th>\n",
              "      <th></th>\n",
              "      <th></th>\n",
              "      <th></th>\n",
              "      <th></th>\n",
              "      <th></th>\n",
              "      <th></th>\n",
              "      <th></th>\n",
              "      <th></th>\n",
              "      <th></th>\n",
              "      <th></th>\n",
              "      <th></th>\n",
              "      <th></th>\n",
              "      <th></th>\n",
              "      <th></th>\n",
              "      <th></th>\n",
              "      <th></th>\n",
              "      <th></th>\n",
              "      <th></th>\n",
              "      <th></th>\n",
              "      <th></th>\n",
              "      <th></th>\n",
              "      <th></th>\n",
              "      <th></th>\n",
              "      <th></th>\n",
              "      <th></th>\n",
              "      <th></th>\n",
              "      <th></th>\n",
              "    </tr>\n",
              "  </thead>\n",
              "  <tbody>\n",
              "    <tr>\n",
              "      <th>1</th>\n",
              "      <td>NaN</td>\n",
              "      <td>NaN</td>\n",
              "      <td>NaN</td>\n",
              "      <td>NaN</td>\n",
              "      <td>NaN</td>\n",
              "      <td>NaN</td>\n",
              "      <td>NaN</td>\n",
              "      <td>NaN</td>\n",
              "      <td>NaN</td>\n",
              "      <td>NaN</td>\n",
              "      <td>NaN</td>\n",
              "      <td>NaN</td>\n",
              "      <td>NaN</td>\n",
              "      <td>NaN</td>\n",
              "      <td>NaN</td>\n",
              "      <td>NaN</td>\n",
              "      <td>NaN</td>\n",
              "      <td>NaN</td>\n",
              "      <td>NaN</td>\n",
              "      <td>NaN</td>\n",
              "      <td>NaN</td>\n",
              "      <td>NaN</td>\n",
              "      <td>NaN</td>\n",
              "      <td>NaN</td>\n",
              "      <td>NaN</td>\n",
              "      <td>NaN</td>\n",
              "      <td>NaN</td>\n",
              "      <td>NaN</td>\n",
              "      <td>NaN</td>\n",
              "      <td>NaN</td>\n",
              "      <td>NaN</td>\n",
              "      <td>NaN</td>\n",
              "      <td>NaN</td>\n",
              "      <td>NaN</td>\n",
              "      <td>NaN</td>\n",
              "      <td>NaN</td>\n",
              "      <td>NaN</td>\n",
              "      <td>NaN</td>\n",
              "      <td>NaN</td>\n",
              "      <td>NaN</td>\n",
              "      <td>...</td>\n",
              "      <td>NaN</td>\n",
              "      <td>NaN</td>\n",
              "      <td>NaN</td>\n",
              "      <td>NaN</td>\n",
              "      <td>NaN</td>\n",
              "      <td>NaN</td>\n",
              "      <td>NaN</td>\n",
              "      <td>NaN</td>\n",
              "      <td>NaN</td>\n",
              "      <td>NaN</td>\n",
              "      <td>NaN</td>\n",
              "      <td>NaN</td>\n",
              "      <td>NaN</td>\n",
              "      <td>NaN</td>\n",
              "      <td>NaN</td>\n",
              "      <td>NaN</td>\n",
              "      <td>NaN</td>\n",
              "      <td>NaN</td>\n",
              "      <td>NaN</td>\n",
              "      <td>NaN</td>\n",
              "      <td>NaN</td>\n",
              "      <td>NaN</td>\n",
              "      <td>NaN</td>\n",
              "      <td>NaN</td>\n",
              "      <td>NaN</td>\n",
              "      <td>NaN</td>\n",
              "      <td>NaN</td>\n",
              "      <td>NaN</td>\n",
              "      <td>NaN</td>\n",
              "      <td>NaN</td>\n",
              "      <td>NaN</td>\n",
              "      <td>NaN</td>\n",
              "      <td>NaN</td>\n",
              "      <td>NaN</td>\n",
              "      <td>NaN</td>\n",
              "      <td>NaN</td>\n",
              "      <td>NaN</td>\n",
              "      <td>NaN</td>\n",
              "      <td>NaN</td>\n",
              "      <td>NaN</td>\n",
              "    </tr>\n",
              "    <tr>\n",
              "      <th>8</th>\n",
              "      <td>NaN</td>\n",
              "      <td>NaN</td>\n",
              "      <td>NaN</td>\n",
              "      <td>NaN</td>\n",
              "      <td>NaN</td>\n",
              "      <td>NaN</td>\n",
              "      <td>NaN</td>\n",
              "      <td>NaN</td>\n",
              "      <td>NaN</td>\n",
              "      <td>NaN</td>\n",
              "      <td>NaN</td>\n",
              "      <td>NaN</td>\n",
              "      <td>NaN</td>\n",
              "      <td>NaN</td>\n",
              "      <td>NaN</td>\n",
              "      <td>NaN</td>\n",
              "      <td>NaN</td>\n",
              "      <td>NaN</td>\n",
              "      <td>NaN</td>\n",
              "      <td>NaN</td>\n",
              "      <td>NaN</td>\n",
              "      <td>NaN</td>\n",
              "      <td>NaN</td>\n",
              "      <td>NaN</td>\n",
              "      <td>NaN</td>\n",
              "      <td>NaN</td>\n",
              "      <td>NaN</td>\n",
              "      <td>NaN</td>\n",
              "      <td>NaN</td>\n",
              "      <td>NaN</td>\n",
              "      <td>NaN</td>\n",
              "      <td>NaN</td>\n",
              "      <td>NaN</td>\n",
              "      <td>NaN</td>\n",
              "      <td>NaN</td>\n",
              "      <td>NaN</td>\n",
              "      <td>NaN</td>\n",
              "      <td>NaN</td>\n",
              "      <td>NaN</td>\n",
              "      <td>NaN</td>\n",
              "      <td>...</td>\n",
              "      <td>NaN</td>\n",
              "      <td>NaN</td>\n",
              "      <td>NaN</td>\n",
              "      <td>NaN</td>\n",
              "      <td>NaN</td>\n",
              "      <td>NaN</td>\n",
              "      <td>NaN</td>\n",
              "      <td>NaN</td>\n",
              "      <td>NaN</td>\n",
              "      <td>NaN</td>\n",
              "      <td>NaN</td>\n",
              "      <td>NaN</td>\n",
              "      <td>NaN</td>\n",
              "      <td>NaN</td>\n",
              "      <td>NaN</td>\n",
              "      <td>NaN</td>\n",
              "      <td>NaN</td>\n",
              "      <td>NaN</td>\n",
              "      <td>NaN</td>\n",
              "      <td>NaN</td>\n",
              "      <td>NaN</td>\n",
              "      <td>NaN</td>\n",
              "      <td>NaN</td>\n",
              "      <td>NaN</td>\n",
              "      <td>NaN</td>\n",
              "      <td>NaN</td>\n",
              "      <td>NaN</td>\n",
              "      <td>NaN</td>\n",
              "      <td>NaN</td>\n",
              "      <td>NaN</td>\n",
              "      <td>NaN</td>\n",
              "      <td>NaN</td>\n",
              "      <td>NaN</td>\n",
              "      <td>NaN</td>\n",
              "      <td>NaN</td>\n",
              "      <td>NaN</td>\n",
              "      <td>NaN</td>\n",
              "      <td>NaN</td>\n",
              "      <td>NaN</td>\n",
              "      <td>NaN</td>\n",
              "    </tr>\n",
              "    <tr>\n",
              "      <th>1</th>\n",
              "      <td>NaN</td>\n",
              "      <td>NaN</td>\n",
              "      <td>NaN</td>\n",
              "      <td>NaN</td>\n",
              "      <td>NaN</td>\n",
              "      <td>NaN</td>\n",
              "      <td>NaN</td>\n",
              "      <td>NaN</td>\n",
              "      <td>NaN</td>\n",
              "      <td>NaN</td>\n",
              "      <td>NaN</td>\n",
              "      <td>NaN</td>\n",
              "      <td>NaN</td>\n",
              "      <td>NaN</td>\n",
              "      <td>NaN</td>\n",
              "      <td>NaN</td>\n",
              "      <td>NaN</td>\n",
              "      <td>NaN</td>\n",
              "      <td>NaN</td>\n",
              "      <td>NaN</td>\n",
              "      <td>NaN</td>\n",
              "      <td>NaN</td>\n",
              "      <td>NaN</td>\n",
              "      <td>NaN</td>\n",
              "      <td>NaN</td>\n",
              "      <td>NaN</td>\n",
              "      <td>NaN</td>\n",
              "      <td>NaN</td>\n",
              "      <td>NaN</td>\n",
              "      <td>NaN</td>\n",
              "      <td>NaN</td>\n",
              "      <td>NaN</td>\n",
              "      <td>NaN</td>\n",
              "      <td>NaN</td>\n",
              "      <td>NaN</td>\n",
              "      <td>NaN</td>\n",
              "      <td>NaN</td>\n",
              "      <td>NaN</td>\n",
              "      <td>NaN</td>\n",
              "      <td>NaN</td>\n",
              "      <td>...</td>\n",
              "      <td>NaN</td>\n",
              "      <td>NaN</td>\n",
              "      <td>NaN</td>\n",
              "      <td>NaN</td>\n",
              "      <td>NaN</td>\n",
              "      <td>NaN</td>\n",
              "      <td>NaN</td>\n",
              "      <td>NaN</td>\n",
              "      <td>NaN</td>\n",
              "      <td>NaN</td>\n",
              "      <td>NaN</td>\n",
              "      <td>NaN</td>\n",
              "      <td>NaN</td>\n",
              "      <td>NaN</td>\n",
              "      <td>NaN</td>\n",
              "      <td>NaN</td>\n",
              "      <td>NaN</td>\n",
              "      <td>NaN</td>\n",
              "      <td>NaN</td>\n",
              "      <td>NaN</td>\n",
              "      <td>NaN</td>\n",
              "      <td>NaN</td>\n",
              "      <td>NaN</td>\n",
              "      <td>NaN</td>\n",
              "      <td>NaN</td>\n",
              "      <td>NaN</td>\n",
              "      <td>NaN</td>\n",
              "      <td>NaN</td>\n",
              "      <td>NaN</td>\n",
              "      <td>NaN</td>\n",
              "      <td>NaN</td>\n",
              "      <td>NaN</td>\n",
              "      <td>NaN</td>\n",
              "      <td>NaN</td>\n",
              "      <td>NaN</td>\n",
              "      <td>NaN</td>\n",
              "      <td>NaN</td>\n",
              "      <td>NaN</td>\n",
              "      <td>NaN</td>\n",
              "      <td>NaN</td>\n",
              "    </tr>\n",
              "    <tr>\n",
              "      <th>1</th>\n",
              "      <td>NaN</td>\n",
              "      <td>NaN</td>\n",
              "      <td>NaN</td>\n",
              "      <td>NaN</td>\n",
              "      <td>NaN</td>\n",
              "      <td>NaN</td>\n",
              "      <td>NaN</td>\n",
              "      <td>NaN</td>\n",
              "      <td>NaN</td>\n",
              "      <td>NaN</td>\n",
              "      <td>NaN</td>\n",
              "      <td>NaN</td>\n",
              "      <td>NaN</td>\n",
              "      <td>NaN</td>\n",
              "      <td>NaN</td>\n",
              "      <td>NaN</td>\n",
              "      <td>NaN</td>\n",
              "      <td>NaN</td>\n",
              "      <td>NaN</td>\n",
              "      <td>NaN</td>\n",
              "      <td>NaN</td>\n",
              "      <td>NaN</td>\n",
              "      <td>NaN</td>\n",
              "      <td>NaN</td>\n",
              "      <td>NaN</td>\n",
              "      <td>NaN</td>\n",
              "      <td>NaN</td>\n",
              "      <td>NaN</td>\n",
              "      <td>NaN</td>\n",
              "      <td>NaN</td>\n",
              "      <td>NaN</td>\n",
              "      <td>NaN</td>\n",
              "      <td>NaN</td>\n",
              "      <td>NaN</td>\n",
              "      <td>NaN</td>\n",
              "      <td>NaN</td>\n",
              "      <td>NaN</td>\n",
              "      <td>NaN</td>\n",
              "      <td>NaN</td>\n",
              "      <td>NaN</td>\n",
              "      <td>...</td>\n",
              "      <td>NaN</td>\n",
              "      <td>NaN</td>\n",
              "      <td>NaN</td>\n",
              "      <td>NaN</td>\n",
              "      <td>NaN</td>\n",
              "      <td>NaN</td>\n",
              "      <td>NaN</td>\n",
              "      <td>NaN</td>\n",
              "      <td>NaN</td>\n",
              "      <td>NaN</td>\n",
              "      <td>NaN</td>\n",
              "      <td>NaN</td>\n",
              "      <td>NaN</td>\n",
              "      <td>NaN</td>\n",
              "      <td>NaN</td>\n",
              "      <td>NaN</td>\n",
              "      <td>NaN</td>\n",
              "      <td>NaN</td>\n",
              "      <td>NaN</td>\n",
              "      <td>NaN</td>\n",
              "      <td>NaN</td>\n",
              "      <td>NaN</td>\n",
              "      <td>NaN</td>\n",
              "      <td>NaN</td>\n",
              "      <td>NaN</td>\n",
              "      <td>NaN</td>\n",
              "      <td>NaN</td>\n",
              "      <td>NaN</td>\n",
              "      <td>NaN</td>\n",
              "      <td>NaN</td>\n",
              "      <td>NaN</td>\n",
              "      <td>NaN</td>\n",
              "      <td>NaN</td>\n",
              "      <td>NaN</td>\n",
              "      <td>NaN</td>\n",
              "      <td>NaN</td>\n",
              "      <td>NaN</td>\n",
              "      <td>NaN</td>\n",
              "      <td>NaN</td>\n",
              "      <td>NaN</td>\n",
              "    </tr>\n",
              "    <tr>\n",
              "      <th>1</th>\n",
              "      <td>NaN</td>\n",
              "      <td>NaN</td>\n",
              "      <td>NaN</td>\n",
              "      <td>NaN</td>\n",
              "      <td>NaN</td>\n",
              "      <td>NaN</td>\n",
              "      <td>NaN</td>\n",
              "      <td>NaN</td>\n",
              "      <td>NaN</td>\n",
              "      <td>NaN</td>\n",
              "      <td>NaN</td>\n",
              "      <td>NaN</td>\n",
              "      <td>NaN</td>\n",
              "      <td>NaN</td>\n",
              "      <td>NaN</td>\n",
              "      <td>NaN</td>\n",
              "      <td>NaN</td>\n",
              "      <td>NaN</td>\n",
              "      <td>NaN</td>\n",
              "      <td>NaN</td>\n",
              "      <td>NaN</td>\n",
              "      <td>NaN</td>\n",
              "      <td>NaN</td>\n",
              "      <td>NaN</td>\n",
              "      <td>NaN</td>\n",
              "      <td>NaN</td>\n",
              "      <td>NaN</td>\n",
              "      <td>NaN</td>\n",
              "      <td>NaN</td>\n",
              "      <td>NaN</td>\n",
              "      <td>NaN</td>\n",
              "      <td>NaN</td>\n",
              "      <td>NaN</td>\n",
              "      <td>NaN</td>\n",
              "      <td>NaN</td>\n",
              "      <td>NaN</td>\n",
              "      <td>NaN</td>\n",
              "      <td>NaN</td>\n",
              "      <td>NaN</td>\n",
              "      <td>NaN</td>\n",
              "      <td>...</td>\n",
              "      <td>NaN</td>\n",
              "      <td>NaN</td>\n",
              "      <td>NaN</td>\n",
              "      <td>NaN</td>\n",
              "      <td>NaN</td>\n",
              "      <td>NaN</td>\n",
              "      <td>NaN</td>\n",
              "      <td>NaN</td>\n",
              "      <td>NaN</td>\n",
              "      <td>NaN</td>\n",
              "      <td>NaN</td>\n",
              "      <td>NaN</td>\n",
              "      <td>NaN</td>\n",
              "      <td>NaN</td>\n",
              "      <td>NaN</td>\n",
              "      <td>NaN</td>\n",
              "      <td>NaN</td>\n",
              "      <td>NaN</td>\n",
              "      <td>NaN</td>\n",
              "      <td>NaN</td>\n",
              "      <td>NaN</td>\n",
              "      <td>NaN</td>\n",
              "      <td>NaN</td>\n",
              "      <td>NaN</td>\n",
              "      <td>NaN</td>\n",
              "      <td>NaN</td>\n",
              "      <td>NaN</td>\n",
              "      <td>NaN</td>\n",
              "      <td>NaN</td>\n",
              "      <td>NaN</td>\n",
              "      <td>NaN</td>\n",
              "      <td>NaN</td>\n",
              "      <td>NaN</td>\n",
              "      <td>NaN</td>\n",
              "      <td>NaN</td>\n",
              "      <td>NaN</td>\n",
              "      <td>NaN</td>\n",
              "      <td>NaN</td>\n",
              "      <td>NaN</td>\n",
              "      <td>NaN</td>\n",
              "    </tr>\n",
              "  </tbody>\n",
              "</table>\n",
              "<p>5 rows × 31021 columns</p>\n",
              "</div>"
            ],
            "text/plain": [
              "                 - !!!!!!!! ¡Ay, mi Tina! - ¡Arre, caballito!  ... zweig Zweig ZWEIG\n",
              "searchUniques                                                  ...                  \n",
              "1              NaN      NaN                               NaN  ...   NaN   NaN   NaN\n",
              "8              NaN      NaN                               NaN  ...   NaN   NaN   NaN\n",
              "1              NaN      NaN                               NaN  ...   NaN   NaN   NaN\n",
              "1              NaN      NaN                               NaN  ...   NaN   NaN   NaN\n",
              "1              NaN      NaN                               NaN  ...   NaN   NaN   NaN\n",
              "\n",
              "[5 rows x 31021 columns]"
            ]
          },
          "metadata": {
            "tags": []
          },
          "execution_count": 120
        }
      ]
    },
    {
      "cell_type": "code",
      "metadata": {
        "id": "pLDlY7M1ZKIG"
      },
      "source": [
        ""
      ],
      "execution_count": null,
      "outputs": []
    },
    {
      "cell_type": "code",
      "metadata": {
        "colab": {
          "base_uri": "https://localhost:8080/",
          "height": 279
        },
        "id": "q0Q2BIifY93I",
        "outputId": "7b4eb020-9f74-4663-fdc8-ef976bad7b8b"
      },
      "source": [
        "dfwork.dtype()"
      ],
      "execution_count": 119,
      "outputs": [
        {
          "output_type": "error",
          "ename": "AttributeError",
          "evalue": "ignored",
          "traceback": [
            "\u001b[0;31m---------------------------------------------------------------------------\u001b[0m",
            "\u001b[0;31mAttributeError\u001b[0m                            Traceback (most recent call last)",
            "\u001b[0;32m<ipython-input-119-f9112ddbf268>\u001b[0m in \u001b[0;36m<module>\u001b[0;34m()\u001b[0m\n\u001b[0;32m----> 1\u001b[0;31m \u001b[0mdfwork\u001b[0m\u001b[0;34m.\u001b[0m\u001b[0mdtype\u001b[0m\u001b[0;34m\u001b[0m\u001b[0;34m\u001b[0m\u001b[0m\n\u001b[0m",
            "\u001b[0;32m/usr/local/lib/python3.7/dist-packages/pandas/core/generic.py\u001b[0m in \u001b[0;36m__getattr__\u001b[0;34m(self, name)\u001b[0m\n\u001b[1;32m   5139\u001b[0m             \u001b[0;32mif\u001b[0m \u001b[0mself\u001b[0m\u001b[0;34m.\u001b[0m\u001b[0m_info_axis\u001b[0m\u001b[0;34m.\u001b[0m\u001b[0m_can_hold_identifiers_and_holds_name\u001b[0m\u001b[0;34m(\u001b[0m\u001b[0mname\u001b[0m\u001b[0;34m)\u001b[0m\u001b[0;34m:\u001b[0m\u001b[0;34m\u001b[0m\u001b[0;34m\u001b[0m\u001b[0m\n\u001b[1;32m   5140\u001b[0m                 \u001b[0;32mreturn\u001b[0m \u001b[0mself\u001b[0m\u001b[0;34m[\u001b[0m\u001b[0mname\u001b[0m\u001b[0;34m]\u001b[0m\u001b[0;34m\u001b[0m\u001b[0;34m\u001b[0m\u001b[0m\n\u001b[0;32m-> 5141\u001b[0;31m             \u001b[0;32mreturn\u001b[0m \u001b[0mobject\u001b[0m\u001b[0;34m.\u001b[0m\u001b[0m__getattribute__\u001b[0m\u001b[0;34m(\u001b[0m\u001b[0mself\u001b[0m\u001b[0;34m,\u001b[0m \u001b[0mname\u001b[0m\u001b[0;34m)\u001b[0m\u001b[0;34m\u001b[0m\u001b[0;34m\u001b[0m\u001b[0m\n\u001b[0m\u001b[1;32m   5142\u001b[0m \u001b[0;34m\u001b[0m\u001b[0m\n\u001b[1;32m   5143\u001b[0m     \u001b[0;32mdef\u001b[0m \u001b[0m__setattr__\u001b[0m\u001b[0;34m(\u001b[0m\u001b[0mself\u001b[0m\u001b[0;34m,\u001b[0m \u001b[0mname\u001b[0m\u001b[0;34m:\u001b[0m \u001b[0mstr\u001b[0m\u001b[0;34m,\u001b[0m \u001b[0mvalue\u001b[0m\u001b[0;34m)\u001b[0m \u001b[0;34m->\u001b[0m \u001b[0;32mNone\u001b[0m\u001b[0;34m:\u001b[0m\u001b[0;34m\u001b[0m\u001b[0;34m\u001b[0m\u001b[0m\n",
            "\u001b[0;31mAttributeError\u001b[0m: 'DataFrame' object has no attribute 'dtype'"
          ]
        }
      ]
    },
    {
      "cell_type": "code",
      "metadata": {
        "id": "DKBiibluY_3M"
      },
      "source": [
        ""
      ],
      "execution_count": null,
      "outputs": []
    },
    {
      "cell_type": "code",
      "metadata": {
        "id": "26wtMq87UmR2"
      },
      "source": [
        "# dfwork.head()"
      ],
      "execution_count": 117,
      "outputs": []
    },
    {
      "cell_type": "code",
      "metadata": {
        "id": "WbOgfCBsL2nb"
      },
      "source": [
        "pretext = df searchKeyword "
      ],
      "execution_count": null,
      "outputs": []
    },
    {
      "cell_type": "code",
      "metadata": {
        "colab": {
          "base_uri": "https://localhost:8080/"
        },
        "id": "imgE-cXG9BRv",
        "outputId": "b311a443-9ae8-4e5e-ddcc-a27893bfcada"
      },
      "source": [
        "\n",
        "nltk.download('punkt')\n",
        "nltk.download('averaged_perceptron_tagger')\n",
        "nltk.download('stopwords')"
      ],
      "execution_count": 49,
      "outputs": [
        {
          "output_type": "stream",
          "text": [
            "[nltk_data] Downloading package punkt to /root/nltk_data...\n",
            "[nltk_data]   Package punkt is already up-to-date!\n",
            "[nltk_data] Downloading package averaged_perceptron_tagger to\n",
            "[nltk_data]     /root/nltk_data...\n",
            "[nltk_data]   Package averaged_perceptron_tagger is already up-to-\n",
            "[nltk_data]       date!\n",
            "[nltk_data] Downloading package stopwords to /root/nltk_data...\n",
            "[nltk_data]   Package stopwords is already up-to-date!\n"
          ],
          "name": "stdout"
        },
        {
          "output_type": "execute_result",
          "data": {
            "text/plain": [
              "True"
            ]
          },
          "metadata": {
            "tags": []
          },
          "execution_count": 49
        }
      ]
    },
    {
      "cell_type": "code",
      "metadata": {
        "id": "0woWGVM29tDA"
      },
      "source": [
        "text_doc = pd.read_csv(\"documentos.csv\", sep= \";\")"
      ],
      "execution_count": 51,
      "outputs": []
    },
    {
      "cell_type": "code",
      "metadata": {
        "colab": {
          "base_uri": "https://localhost:8080/",
          "height": 203
        },
        "id": "fNyY7OZuAv8L",
        "outputId": "ff324329-15a2-4d51-e7b4-47d5fcad425d"
      },
      "source": [
        "text_doc"
      ],
      "execution_count": 73,
      "outputs": [
        {
          "output_type": "execute_result",
          "data": {
            "text/html": [
              "<div>\n",
              "<style scoped>\n",
              "    .dataframe tbody tr th:only-of-type {\n",
              "        vertical-align: middle;\n",
              "    }\n",
              "\n",
              "    .dataframe tbody tr th {\n",
              "        vertical-align: top;\n",
              "    }\n",
              "\n",
              "    .dataframe thead th {\n",
              "        text-align: right;\n",
              "    }\n",
              "</style>\n",
              "<table border=\"1\" class=\"dataframe\">\n",
              "  <thead>\n",
              "    <tr style=\"text-align: right;\">\n",
              "      <th></th>\n",
              "      <th>doc_id</th>\n",
              "      <th>text</th>\n",
              "    </tr>\n",
              "  </thead>\n",
              "  <tbody>\n",
              "    <tr>\n",
              "      <th>0</th>\n",
              "      <td>1</td>\n",
              "      <td>Document 1 – Natural Language Processing (NLP)...</td>\n",
              "    </tr>\n",
              "    <tr>\n",
              "      <th>1</th>\n",
              "      <td>2</td>\n",
              "      <td>Document 2 – Google has trained its search eng...</td>\n",
              "    </tr>\n",
              "    <tr>\n",
              "      <th>2</th>\n",
              "      <td>3</td>\n",
              "      <td>Document 3 – Origination of Natural Language P...</td>\n",
              "    </tr>\n",
              "    <tr>\n",
              "      <th>3</th>\n",
              "      <td>4</td>\n",
              "      <td>Document 4 – NLP is actively used for a variet...</td>\n",
              "    </tr>\n",
              "    <tr>\n",
              "      <th>4</th>\n",
              "      <td>5</td>\n",
              "      <td>Document 5 – Acronym NLP is used for both Natu...</td>\n",
              "    </tr>\n",
              "  </tbody>\n",
              "</table>\n",
              "</div>"
            ],
            "text/plain": [
              "   doc_id                                               text\n",
              "0       1  Document 1 – Natural Language Processing (NLP)...\n",
              "1       2  Document 2 – Google has trained its search eng...\n",
              "2       3  Document 3 – Origination of Natural Language P...\n",
              "3       4  Document 4 – NLP is actively used for a variet...\n",
              "4       5  Document 5 – Acronym NLP is used for both Natu..."
            ]
          },
          "metadata": {
            "tags": []
          },
          "execution_count": 73
        }
      ]
    },
    {
      "cell_type": "code",
      "metadata": {
        "colab": {
          "base_uri": "https://localhost:8080/"
        },
        "id": "TEZrfgjR8_r4",
        "outputId": "34f2b71f-1ea8-4a87-dcb7-dbd57ddc67c8"
      },
      "source": [
        "from nltk.tokenize import sent_tokenize\n",
        "# breaking every document into sentences\n",
        "doc_w_sent = [sent_tokenize(text) for text in text_doc.text]\n",
        "# creating document ID & sentence ID for reference\n",
        "doc_num_list = [[x] * y for x, y in zip(text_doc.doc_id, [len(doc) for doc in doc_w_sent])]\n",
        "sentence_num_list = [list(range(1, len(doc)+1)) for doc in doc_w_sent]\n",
        "# un-nesting lists\n",
        "doc_w_sent = [x for element in doc_w_sent for x in element]\n",
        "doc_num_list = [x for element in doc_num_list for x in element]\n",
        "sentence_num_list = [x for element in sentence_num_list for x in element]\n",
        "# creating dataframe\n",
        "text_data = pd.DataFrame({'Document ID' : doc_num_list, 'Sentence ID' : sentence_num_list, 'Text' : doc_w_sent})\n",
        "print(text_data)"
      ],
      "execution_count": 74,
      "outputs": [
        {
          "output_type": "stream",
          "text": [
            "    Document ID  Sentence ID                                               Text\n",
            "0             1            1  Document 1 – Natural Language Processing (NLP)...\n",
            "1             1            2  We are already interacting with such machines ...\n",
            "2             1            3  But do Machines really understand human langua...\n",
            "3             1            4                 Yes, they can be trained to do so!\n",
            "4             2            1  Document 2 – Google has trained its search eng...\n",
            "5             2            2  Google’s search engine has the capability of \\...\n",
            "6             2            3  Google’s “state-of-the-art” search engine is o...\n",
            "7             3            1  Document 3 – Origination of Natural Language P...\n",
            "8             3            2  Today, NLP has expanded beyond these two langu...\n",
            "9             4            1  Document 4 – NLP is actively used for a variet...\n",
            "10            5            1  Document 5 – Acronym NLP is used for both Natu...\n",
            "11            5            2  Neuro-Linguistic Programming deals with human-...\n"
          ],
          "name": "stdout"
        }
      ]
    },
    {
      "cell_type": "code",
      "metadata": {
        "colab": {
          "base_uri": "https://localhost:8080/"
        },
        "id": "Kxo5w-fi9JhB",
        "outputId": "550e7dd7-0913-4590-a350-1b606aceb330"
      },
      "source": [
        "import nltk\n",
        "pos_tag = [nltk.pos_tag(nltk.word_tokenize(sent)) for sent in text_data.Text]\n",
        "print(pos_tag)"
      ],
      "execution_count": 75,
      "outputs": [
        {
          "output_type": "stream",
          "text": [
            "[[('Document', 'NNP'), ('1', 'CD'), ('–', 'NNP'), ('Natural', 'NNP'), ('Language', 'NNP'), ('Processing', 'NNP'), ('(', '('), ('NLP', 'NNP'), (')', ')'), ('is', 'VBZ'), ('a', 'DT'), ('field', 'NN'), ('within', 'IN'), ('Artificial', 'JJ'), ('Intelligence', 'NNP'), ('(', '('), ('AI', 'NNP'), (')', ')'), ('that', 'WDT'), ('is', 'VBZ'), ('concerned', 'VBN'), ('with', 'IN'), ('how', 'WRB'), ('computers', 'NNS'), ('deal', 'VBP'), ('with', 'IN'), ('human', 'JJ'), ('language', 'NN'), ('.', '.')], [('We', 'PRP'), ('are', 'VBP'), ('already', 'RB'), ('interacting', 'VBG'), ('with', 'IN'), ('such', 'JJ'), ('machines', 'NNS'), ('in', 'IN'), ('our', 'PRP$'), ('day-to-day', 'JJ'), ('life', 'NN'), ('in', 'IN'), ('the', 'DT'), ('form', 'NN'), ('of', 'IN'), ('IVRs', 'NNP'), ('&', 'CC'), ('chat-bots', 'NNS'), ('.', '.')], [('But', 'CC'), ('do', 'VBP'), ('Machines', 'NNS'), ('really', 'RB'), ('understand', 'VBP'), ('human', 'JJ'), ('language', 'NN'), (',', ','), ('context', 'NN'), (',', ','), ('syntax', 'NN'), (',', ','), ('semantics', 'NNS'), (',', ','), ('etc', 'FW'), ('.', '.'), ('?', '.')], [('Yes', 'UH'), (',', ','), ('they', 'PRP'), ('can', 'MD'), ('be', 'VB'), ('trained', 'VBN'), ('to', 'TO'), ('do', 'VB'), ('so', 'RB'), ('!', '.')], [('Document', 'NNP'), ('2', 'CD'), ('–', 'NNP'), ('Google', 'NNP'), ('has', 'VBZ'), ('trained', 'VBN'), ('its', 'PRP$'), ('search', 'NN'), ('engine', 'NN'), ('to', 'TO'), ('make', 'VB'), ('autofill', 'JJ'), ('recommendations', 'NNS'), ('as', 'IN'), ('text', 'NN'), ('is', 'VBZ'), ('typed', 'VBN'), ('using', 'VBG'), ('NLP', 'NNP'), ('.', '.')], [('Google', 'NNP'), ('’', 'NNP'), ('s', 'VBD'), ('search', 'NN'), ('engine', 'NN'), ('has', 'VBZ'), ('the', 'DT'), ('capability', 'NN'), ('of', 'IN'), ('understanding', 'VBG'), ('the', 'DT'), ('meaning', 'NN'), ('of', 'IN'), ('words', 'NNS'), ('depending', 'VBG'), ('on', 'IN'), ('the', 'DT'), ('context', 'NN'), ('in', 'IN'), ('the', 'DT'), ('search', 'NN'), ('.', '.')], [('Google', 'NNP'), ('’', 'NNP'), ('s', 'VBD'), ('“', 'JJ'), ('state-of-the-art', 'JJ'), ('”', 'NN'), ('search', 'NN'), ('engine', 'NN'), ('is', 'VBZ'), ('one', 'CD'), ('of', 'IN'), ('the', 'DT'), ('most', 'RBS'), ('sophisticated', 'JJ'), ('examples', 'NNS'), ('of', 'IN'), ('NLP', 'NNP'), ('.', '.')], [('Document', 'NNP'), ('3', 'CD'), ('–', 'NNP'), ('Origination', 'NNP'), ('of', 'IN'), ('Natural', 'NNP'), ('Language', 'NNP'), ('Processing', 'NNP'), ('dates', 'VBZ'), ('back', 'RB'), ('to', 'TO'), ('the', 'DT'), ('II', 'NNP'), ('world', 'NN'), ('war', 'NN'), ('when', 'WRB'), ('there', 'EX'), ('was', 'VBD'), ('a', 'DT'), ('need', 'NN'), ('for', 'IN'), ('machine', 'NN'), ('translation', 'NN'), ('between', 'IN'), ('Russian', 'NNP'), ('&', 'CC'), ('English', 'NNP'), ('.', '.')], [('Today', 'NN'), (',', ','), ('NLP', 'NNP'), ('has', 'VBZ'), ('expanded', 'VBN'), ('beyond', 'IN'), ('these', 'DT'), ('two', 'CD'), ('languages', 'NNS'), ('and', 'CC'), ('can', 'MD'), ('deal', 'VB'), ('with', 'IN'), ('most', 'JJS'), ('languages', 'NNS'), (',', ','), ('including', 'VBG'), ('sign', 'JJ'), ('language', 'NN'), ('.', '.')], [('Document', 'NNP'), ('4', 'CD'), ('–', 'NNP'), ('NLP', 'NNP'), ('is', 'VBZ'), ('actively', 'RB'), ('used', 'VBN'), ('for', 'IN'), ('a', 'DT'), ('variety', 'NN'), ('of', 'IN'), ('day-to-day', 'JJ'), ('activities', 'NNS'), ('like', 'IN'), ('spam', 'NN'), ('detection', 'NN'), (',', ','), ('recruitment', 'NN'), (',', ','), ('smart', 'JJ'), ('assistants', 'NNS'), (',', ','), ('understanding', 'VBG'), ('customer', 'NN'), ('behaviour', 'NN'), ('&', 'CC'), ('so', 'RB'), ('on……', 'JJ'), ('Usage', 'NN'), ('and', 'CC'), ('impact', 'NN'), ('of', 'IN'), ('NLP', 'NNP'), ('are', 'VBP'), ('growing', 'VBG'), ('exponentially', 'RB'), (',', ','), ('across', 'IN'), ('a', 'DT'), ('wide', 'JJ'), ('range', 'NN'), ('of', 'IN'), ('industries', 'NNS'), ('.', '.')], [('Document', 'NNP'), ('5', 'CD'), ('–', 'NNP'), ('Acronym', 'NNP'), ('NLP', 'NNP'), ('is', 'VBZ'), ('used', 'VBN'), ('for', 'IN'), ('both', 'DT'), ('Natural', 'NNP'), ('Language', 'NNP'), ('Processing', 'NNP'), ('&', 'CC'), ('Neuro-Linguistic', 'JJ'), ('Programming', 'NN'), (',', ','), ('but', 'CC'), (',', ','), ('these', 'DT'), ('are', 'VBP'), ('completely', 'RB'), ('different', 'JJ'), ('fields', 'NNS'), ('of', 'IN'), ('science', 'NN'), ('.', '.')], [('Neuro-Linguistic', 'JJ'), ('Programming', 'NNP'), ('deals', 'NNS'), ('with', 'IN'), ('human-to-human', 'JJ'), ('interaction', 'NN'), (',', ','), ('whereas', 'JJ'), ('Natural', 'NNP'), ('Language', 'NNP'), ('Processing', 'NNP'), ('deals', 'NNS'), ('with', 'IN'), ('human-to-computer', 'JJ'), ('interaction', 'NN'), ('.', '.')]]\n"
          ],
          "name": "stdout"
        }
      ]
    },
    {
      "cell_type": "code",
      "metadata": {
        "id": "u7I8KLeRDpSd"
      },
      "source": [
        "punctuation = \"!”#$%&'()*+,-./:;?@[]^_`{|}~\""
      ],
      "execution_count": 66,
      "outputs": []
    },
    {
      "cell_type": "code",
      "metadata": {
        "colab": {
          "base_uri": "https://localhost:8080/"
        },
        "id": "FDiG0LO49L6w",
        "outputId": "89e5d53f-67bc-4879-aaf1-22fb06891aef"
      },
      "source": [
        "import re\n",
        "text_data.Text = [re.sub('['+punctuation+']', ' ', sent) for sent in text_data.Text]\n",
        "[print(sent) for sent in text_data.Text]"
      ],
      "execution_count": 76,
      "outputs": [
        {
          "output_type": "stream",
          "text": [
            "Document 1 – Natural Language Processing (NLP) is a field within Artificial Intelligence (AI) that is concerned with how computers deal with human language.\n",
            "We are already interacting with such machines in our day-to-day life in the form of IVRs & chat-bots.\n",
            "But do Machines really understand human language, context, syntax, semantics, etc.?\n",
            "Yes, they can be trained to do so!\n",
            "Document 2 – Google has trained its search engine to make autofill recommendations as text is typed using NLP.\n",
            "Google’s search engine has the capability of \tunderstanding the meaning of words depending on the context in the search.\n",
            "Google’s “state-of-the-art” search engine is one of the most sophisticated examples of NLP.\n",
            "Document 3 – Origination of Natural Language Processing dates back to the II world war when there was a need for machine translation between Russian & English.\n",
            "Today, NLP has expanded beyond these two languages and can deal with most languages, including sign language.\n",
            "Document 4 – NLP is actively used for a variety of day-to-day activities like spam detection, recruitment, smart assistants, understanding customer behaviour & so on…… Usage and impact of NLP are growing exponentially, across a wide range of industries.\n",
            "Document 5 – Acronym NLP is used for both Natural Language Processing & Neuro-Linguistic Programming, but, these are completely different fields of science.\n",
            "Neuro-Linguistic Programming deals with human-to-human interaction, whereas Natural Language Processing deals with human-to-computer interaction.\n"
          ],
          "name": "stdout"
        },
        {
          "output_type": "execute_result",
          "data": {
            "text/plain": [
              "[None, None, None, None, None, None, None, None, None, None, None, None]"
            ]
          },
          "metadata": {
            "tags": []
          },
          "execution_count": 76
        }
      ]
    },
    {
      "cell_type": "code",
      "metadata": {
        "colab": {
          "base_uri": "https://localhost:8080/"
        },
        "id": "fe6qm4wg9Oea",
        "outputId": "02d9acbe-6ae0-4be3-95ab-d575676a98ee"
      },
      "source": [
        "from nltk.corpus import stopwords\n",
        "import re\n",
        "stop_words = set(stopwords.words('english'))\n",
        "stopwords_all = \"(\"+') | ('.join([s for s in stop_words])+\")\"\n",
        "text_data.Text = [re.sub(stopwords_all,' ',sent) for sent in text_data.Text]\n",
        "[print(sent) for sent in text_data.Text]"
      ],
      "execution_count": 77,
      "outputs": [
        {
          "output_type": "stream",
          "text": [
            "Document 1 – Natural Language Processing (NLP) a field within Artificial Intelligence (AI) is concerned how computers deal human language.\n",
            "We already interacting such machines our day-to-day life the form IVRs & chat-bots.\n",
            "But Machines really understand human language, context, syntax, semantics, etc.?\n",
            "Yes, can trained do so!\n",
            "Document 2 – Google trained search engine make autofill recommendations text typed using NLP.\n",
            "Google’s search engine the capability \tunderstanding meaning words depending the context the search.\n",
            "Google’s “state-of-the-art” search engine one the sophisticated examples NLP.\n",
            "Document 3 – Origination Natural Language Processing dates back the II world war there a need machine translation Russian & English.\n",
            "Today, NLP expanded beyond two languages can deal most languages, including sign language.\n",
            "Document 4 – NLP actively used a variety day-to-day activities like spam detection, recruitment, smart assistants, understanding customer behaviour & on…… Usage impact NLP growing exponentially, across wide range industries.\n",
            "Document 5 – Acronym NLP used both Natural Language Processing & Neuro-Linguistic Programming, but, are completely different fields science.\n",
            "Neuro-Linguistic Programming deals human-to-human interaction, whereas Natural Language Processing deals human-to-computer interaction.\n"
          ],
          "name": "stdout"
        },
        {
          "output_type": "execute_result",
          "data": {
            "text/plain": [
              "[None, None, None, None, None, None, None, None, None, None, None, None]"
            ]
          },
          "metadata": {
            "tags": []
          },
          "execution_count": 77
        }
      ]
    },
    {
      "cell_type": "code",
      "metadata": {
        "colab": {
          "base_uri": "https://localhost:8080/"
        },
        "id": "z5dMS3o_9QsJ",
        "outputId": "a912b239-b0f0-48f3-8b89-f24c0666a2d0"
      },
      "source": [
        "import re\n",
        "#text_data.Text = [re.sub(r's+|t+|n+|r+|f+',' ',sent).strip() for sent in text_data.Text]\n",
        "[print(sent) for sent in text_data.Text]"
      ],
      "execution_count": 59,
      "outputs": [
        {
          "output_type": "stream",
          "text": [
            "Docume   1 – Na u al La guage P oce i g (NLP) a  ield wi hi  A  i icial I  ellige ce (AI) i  co ce  ed how compu e   deal huma  la guage.\n",
            "We al eady i  e ac i g  uch machi e  ou  day- o-day li e  he  o m IVR  & cha -bo  .\n",
            "Bu  Machi e   eally u de   a d huma  la guage, co  ex ,  y  ax,  ema  ic , e c.?\n",
            "Ye , ca    ai ed do  o!\n",
            "Docume   2 – Google   ai ed  ea ch e gi e make au o ill  ecomme da io    ex   yped u i g NLP.\n",
            "Google’   ea ch e gi e  he capabili y \tu de   a di g mea i g wo d  depe di g  he co  ex   he  ea ch.\n",
            "Google’  “  a e-o - he-a  ”  ea ch e gi e o e  he  ophi  ica ed example  NLP.\n",
            "Docume   3 – O igi a io  Na u al La guage P oce i g da e  back  he II wo ld wa   he e a  eed machi e   a  la io  Ru ia  & E gli h.\n",
            "Today, NLP expa ded beyo d  wo la guage  ca  deal mo   la guage , i cludi g  ig  la guage.\n",
            "Docume   4 – NLP ac ively u ed a va ie y day- o-day ac ivi ie  like  pam de ec io ,  ec ui me  ,  ma   a i  a   , u de   a di g cu  ome  behaviou  & o …… U age impac  NLP g owi g expo e  ially, ac o  wide  a ge i du   ie .\n",
            "Docume   5 – Ac o ym NLP u ed bo h Na u al La guage P oce i g & Neu o-Li gui  ic P og ammi g, bu , a e comple ely di e e    ield   cie ce.\n",
            "Neu o-Li gui  ic P og ammi g deal  huma - o-huma  i  e ac io , whe ea  Na u al La guage P oce i g deal  huma - o-compu e  i  e ac io .\n"
          ],
          "name": "stdout"
        },
        {
          "output_type": "execute_result",
          "data": {
            "text/plain": [
              "[None, None, None, None, None, None, None, None, None, None, None, None]"
            ]
          },
          "metadata": {
            "tags": []
          },
          "execution_count": 59
        }
      ]
    },
    {
      "cell_type": "code",
      "metadata": {
        "colab": {
          "base_uri": "https://localhost:8080/"
        },
        "id": "WW2wZw7R9Tkf",
        "outputId": "1d12aecd-e971-4ab9-b94e-273294456a88"
      },
      "source": [
        "# roll up cleansed sentences at document level\n",
        "text_doc_cleansed = text_data.groupby('Document ID')['Text'].apply(list)\n",
        "text_doc_cleansed = [' '.join(doc) for doc in text_doc_cleansed]\n",
        "print(text_doc_cleansed)"
      ],
      "execution_count": 78,
      "outputs": [
        {
          "output_type": "stream",
          "text": [
            "['Document 1 –\\xa0Natural Language Processing (NLP) a field within Artificial Intelligence (AI) is concerned how computers deal human language. We already interacting such machines our day-to-day life the form IVRs & chat-bots. But Machines really understand human language, context, syntax, semantics, etc.? Yes, can trained do so!', 'Document 2 –\\xa0Google trained search engine make autofill recommendations text typed using NLP. Google’s search engine the capability \\tunderstanding meaning words depending the context the search. Google’s “state-of-the-art” search engine one the sophisticated examples NLP.', 'Document 3 –\\xa0Origination Natural Language Processing dates back the II world war there a need machine translation Russian & English. Today, NLP expanded beyond two languages can deal most languages, including sign language.', 'Document 4 –\\xa0NLP actively used a variety day-to-day activities like spam detection, recruitment, smart assistants, understanding customer behaviour & on…… Usage impact NLP growing exponentially, across wide range industries.', 'Document 5 –\\xa0Acronym NLP used both Natural Language Processing & Neuro-Linguistic Programming, but, are completely different fields science. Neuro-Linguistic Programming deals human-to-human interaction, whereas Natural Language Processing deals human-to-computer interaction.']\n"
          ],
          "name": "stdout"
        }
      ]
    },
    {
      "cell_type": "code",
      "metadata": {
        "colab": {
          "base_uri": "https://localhost:8080/"
        },
        "id": "I1fJvf1P9V_x",
        "outputId": "d47af4f7-8b05-4b4f-ac9e-30121b1b6964"
      },
      "source": [
        "from sklearn.feature_extraction.text import CountVectorizer\n",
        "countvectorizer = CountVectorizer()\n",
        "countvectors = countvectorizer.fit_transform(text_doc_cleansed)\n",
        "countfeature_names = countvectorizer.get_feature_names()\n",
        "countdense = countvectors.todense()\n",
        "countdenselist = countdense.tolist()\n",
        "count_df = pd.DataFrame(countdenselist, columns=countfeature_names)\n",
        "print(count_df)"
      ],
      "execution_count": 79,
      "outputs": [
        {
          "output_type": "stream",
          "text": [
            "   acronym  across  actively  activities  ai  ...  wide  within  words  world  yes\n",
            "0        0       0         0           0   1  ...     0       1      0      0    1\n",
            "1        0       0         0           0   0  ...     0       0      1      0    0\n",
            "2        0       0         0           0   0  ...     0       0      0      1    0\n",
            "3        0       1         1           1   0  ...     1       0      0      0    0\n",
            "4        1       0         0           0   0  ...     0       0      0      0    0\n",
            "\n",
            "[5 rows x 117 columns]\n"
          ],
          "name": "stdout"
        }
      ]
    },
    {
      "cell_type": "code",
      "metadata": {
        "colab": {
          "base_uri": "https://localhost:8080/"
        },
        "id": "vUSb34Mc9X-6",
        "outputId": "0c3e5bd3-e46e-464a-f30d-f36cc0aac38b"
      },
      "source": [
        "from sklearn.feature_extraction.text import CountVectorizer,TfidfVectorizer\n",
        "tfidfvectorizer = TfidfVectorizer()\n",
        "tfidfvectors = tfidfvectorizer.fit_transform(text_doc_cleansed)\n",
        "tfidffeature_names = tfidfvectorizer.get_feature_names()\n",
        "tfidfdense = tfidfvectors.todense()\n",
        "tfidfdenselist = tfidfdense.tolist()\n",
        "tfidf_df = pd.DataFrame(tfidfdenselist, columns=tfidffeature_names)\n",
        "print(tfidf_df)"
      ],
      "execution_count": 80,
      "outputs": [
        {
          "output_type": "stream",
          "text": [
            "    acronym    across  actively  ...     words     world      yes\n",
            "0  0.000000  0.000000  0.000000  ...  0.000000  0.000000  0.14785\n",
            "1  0.000000  0.000000  0.000000  ...  0.124707  0.000000  0.00000\n",
            "2  0.000000  0.000000  0.000000  ...  0.000000  0.189336  0.00000\n",
            "3  0.000000  0.198071  0.198071  ...  0.000000  0.000000  0.00000\n",
            "4  0.151116  0.000000  0.000000  ...  0.000000  0.000000  0.00000\n",
            "\n",
            "[5 rows x 117 columns]\n"
          ],
          "name": "stdout"
        }
      ]
    },
    {
      "cell_type": "code",
      "metadata": {
        "colab": {
          "base_uri": "https://localhost:8080/",
          "height": 286
        },
        "id": "K0JFhqSA9bL5",
        "outputId": "47d0a344-8011-4064-958c-5a9e0611532c"
      },
      "source": [
        "import matplotlib.pyplot as plt\n",
        "from wordcloud import WordCloud\n",
        "wordcloud = WordCloud(background_color=\"white\", width=3000, height=2000, max_words=500).generate_from_frequencies(tfidf_df.T.sum(axis=1))\n",
        "plt.imshow(wordcloud)"
      ],
      "execution_count": 81,
      "outputs": [
        {
          "output_type": "execute_result",
          "data": {
            "text/plain": [
              "<matplotlib.image.AxesImage at 0x7f98466e7810>"
            ]
          },
          "metadata": {
            "tags": []
          },
          "execution_count": 81
        },
        {
          "output_type": "display_data",
          "data": {
            "image/png": "[encoded data removed]",
            "text/plain": [
              "<Figure size 432x288 with 1 Axes>"
            ]
          },
          "metadata": {
            "tags": [],
            "needs_background": "light"
          }
        }
      ]
    },
    {
      "cell_type": "code",
      "metadata": {
        "id": "fsyt1rU1LnRD"
      },
      "source": [
        ""
      ],
      "execution_count": null,
      "outputs": []
    }
  ]
}